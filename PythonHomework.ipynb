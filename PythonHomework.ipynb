{
 "cells": [
  {
   "cell_type": "code",
   "execution_count": 1,
   "metadata": {},
   "outputs": [
    {
     "name": "stdout",
     "output_type": "stream",
     "text": [
      "Kullanıcı Adınızı Girin :sumeyya\n",
      "Parolayı Giriniz :7855\n",
      "Kullanıcı bilgileri yanlış tekrar deneyin!\n",
      "giriş hakkınız: 2\n",
      "Kullanıcı Adınızı Girin :sumeyya\n",
      "Parolayı Giriniz :1557\n",
      "Kullanıcı bilgileri yanlış tekrar deneyin!\n",
      "giriş hakkınız: 1\n",
      "Kullanıcı Adınızı Girin :sumeyya\n",
      "Parolayı Giriniz :7875\n",
      "Kullanıcı bilgileri yanlış tekrar deneyin!\n",
      "giriş hakkınız: 0\n",
      "giriş hakkınız doldu, tekrar bekleriz\n"
     ]
    }
   ],
   "source": [
    "kullanici_adim=\"Sumeyya\"\n",
    "parolam =\"1234\"\n",
    "giris_hakki=3\n",
    "while (giris_hakki>0):\n",
    "\n",
    "  giris_hakki -=1\n",
    "  kullanici_adi = input(\"Kullanıcı Adınızı Girin :\")\n",
    "  parola = input(\"Parolayı Giriniz :\")\n",
    "\n",
    "  if (kullanici_adi==kullanici_adim and parola== parolam):\n",
    "\n",
    "    print(\"Sisteme başarılı bir şekilde giriş yaptınız.\")\n",
    "  else:\n",
    "    print(\"Kullanıcı bilgileri yanlış tekrar deneyin!\")\n",
    "    print(\"giriş hakkınız:\" , giris_hakki)\n",
    "    if (giris_hakki==0):\n",
    "      print(\"giriş hakkınız doldu, tekrar bekleriz\")"
   ]
  },
  {
   "cell_type": "code",
   "execution_count": 3,
   "metadata": {},
   "outputs": [
    {
     "name": "stdout",
     "output_type": "stream",
     "text": [
      "5 dersi aralarında boşluk bırakarak seçiniz..a b c d e\n",
      "Dersleriniz oluşturuluyor...\n",
      "Seçtiğiniz dersler =  ['a', 'b', 'c', 'd', 'e']\n"
     ]
    }
   ],
   "source": [
    "input_string = input(\"5 dersi aralarında boşluk bırakarak seçiniz..\")\n",
    "list  = input_string.split()\n",
    "print(\"Dersleriniz oluşturuluyor...\")\n",
    "sum = []\n",
    "for num in list:\n",
    "    sum += num\n",
    "print(\"Seçtiğiniz dersler = \",sum)"
   ]
  },
  {
   "cell_type": "code",
   "execution_count": 6,
   "metadata": {},
   "outputs": [
    {
     "name": "stdout",
     "output_type": "stream",
     "text": [
      "5 dersi aralarında boşluk bırakarak seçiniz..java php kotlin c\n",
      "seçtiğiniz dersler:  ['java', 'php', 'kotlin', 'c', []]\n"
     ]
    }
   ],
   "source": [
    "#max 5 min 3 ders seçebilsin\n",
    "def ders():\n",
    "\n",
    "  input_string = input(\"5 dersi aralarında boşluk bırakarak seçiniz..\")\n",
    "  list  = input_string.split()\n",
    "  sum = []\n",
    "\n",
    "  if (len(list)<3 or len(list)>5):\n",
    "    print(\"lütfen minimum3, maximum 5 ders giriniz...\")\n",
    "\n",
    "  if (len(list)>3 or len(list)<6):\n",
    "\n",
    "    list.append(sum)\n",
    "\n",
    "    return list\n",
    "a = ders()\n",
    "print(\"seçtiğiniz dersler: \", a)"
   ]
  },
  {
   "cell_type": "code",
   "execution_count": 7,
   "metadata": {},
   "outputs": [
    {
     "name": "stdout",
     "output_type": "stream",
     "text": [
      "Matematik dersine ait notlarınız...\n",
      " {'midterm': 40, 'final': 80, 'project': 100}\n",
      "puanlama sistemi: Midterm:%30, Final: %50, Proje: %20\n",
      "BB aldınız\n"
     ]
    }
   ],
   "source": [
    "# ders ve sınavlar\n",
    "notlar={\"midterm\": 40,\"final\":80,\"project\":100}\n",
    "print(\"Matematik dersine ait notlarınız...\\n\", notlar)\n",
    "print(\"puanlama sistemi: Midterm:%30, Final: %50, Proje: %20\")\n",
    "total= 0.3*40  + 0.5*80 + 0.2*100\n",
    "\n",
    "if (total >= 90):\n",
    "    print(\"AA ile geçtiniz, tebrikler\")\n",
    "elif (total >=70 and total<90) :\n",
    "    print(\"BB aldınız\")\n",
    "elif (total>=50 and total<70):\n",
    "  print(\"CC aldınız\")\n",
    "elif (total>=30 and total<50):\n",
    "  print(\"DD aldınız\")\n",
    "elif (total<30):\n",
    "  print(\"FF ile kaldınız...\")"
   ]
  },
  {
   "cell_type": "code",
   "execution_count": null,
   "metadata": {},
   "outputs": [],
   "source": []
  }
 ],
 "metadata": {
  "kernelspec": {
   "display_name": "Python 3",
   "language": "python",
   "name": "python3"
  },
  "language_info": {
   "codemirror_mode": {
    "name": "ipython",
    "version": 3
   },
   "file_extension": ".py",
   "mimetype": "text/x-python",
   "name": "python",
   "nbconvert_exporter": "python",
   "pygments_lexer": "ipython3",
   "version": "3.7.3"
  }
 },
 "nbformat": 4,
 "nbformat_minor": 2
}
